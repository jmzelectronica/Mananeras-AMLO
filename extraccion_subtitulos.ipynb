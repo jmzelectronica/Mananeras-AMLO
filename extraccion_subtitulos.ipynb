{
 "cells": [
  {
   "cell_type": "code",
   "execution_count": 8,
   "id": "63bd8a3e-3cd8-47dd-bb38-998967b55921",
   "metadata": {},
   "outputs": [
    {
     "name": "stdout",
     "output_type": "stream",
     "text": [
      "Collecting yt-dlp\n",
      "  Downloading yt_dlp-2025.3.31-py3-none-any.whl.metadata (172 kB)\n",
      "Downloading yt_dlp-2025.3.31-py3-none-any.whl (3.2 MB)\n",
      "   ---------------------------------------- 0.0/3.2 MB ? eta -:--:--\n",
      "   --- ------------------------------------ 0.3/3.2 MB ? eta -:--:--\n",
      "   ------------- -------------------------- 1.0/3.2 MB 3.3 MB/s eta 0:00:01\n",
      "   ---------------------- ----------------- 1.8/3.2 MB 3.4 MB/s eta 0:00:01\n",
      "   -------------------------------- ------- 2.6/3.2 MB 3.4 MB/s eta 0:00:01\n",
      "   ---------------------------------------- 3.2/3.2 MB 3.4 MB/s eta 0:00:00\n",
      "Installing collected packages: yt-dlp\n",
      "Successfully installed yt-dlp-2025.3.31\n"
     ]
    }
   ],
   "source": [
    "!pip install yt-dlp\n"
   ]
  },
  {
   "cell_type": "code",
   "execution_count": 15,
   "id": "c2cb1f33-dff2-447d-ad83-50d4e4997d4d",
   "metadata": {},
   "outputs": [
    {
     "name": "stdout",
     "output_type": "stream",
     "text": [
      "Total videos encontrados: 1389\n"
     ]
    }
   ],
   "source": [
    "import yt_dlp\n",
    "\n",
    "channel_url = 'https://youtube.com/playlist?list=PLRnlRGar-_296KTsVL0R6MEbpwJzD8ppA&si=awSWL7yNSOPmkiYp'  # playlist de las conferencias mañaneras\n",
    "\n",
    "ydl_opts = {\n",
    "    'quiet': True,\n",
    "    'extract_flat': True,\n",
    "    'force_generic_extractor': True,\n",
    "}\n",
    "\n",
    "video_urls = []\n",
    "\n",
    "with yt_dlp.YoutubeDL(ydl_opts) as ydl:\n",
    "    info = ydl.extract_info(channel_url, download=False)\n",
    "    entries = info.get('entries', [])\n",
    "    \n",
    "    for entry in entries:\n",
    "        if entry.get('id'):\n",
    "            video_url = f\"https://www.youtube.com/watch?v={entry['id']}\"\n",
    "            video_urls.append(video_url)\n",
    "\n",
    "print(f\"Total videos encontrados: {len(video_urls)}\")\n",
    "\n",
    "\n"
   ]
  },
  {
   "cell_type": "code",
   "execution_count": 17,
   "id": "0ae470f7-a327-45d0-93c8-41eef9cf735f",
   "metadata": {},
   "outputs": [
    {
     "name": "stdout",
     "output_type": "stream",
     "text": [
      "📝 Comenzando la extracción de subtítulos...\n",
      "❌ Error al procesar https://www.youtube.com/live/Q5Z01pPwoEM?si=Qvvy6BNmX6HL4KVI: HTTP Error 400: Bad Request\n",
      "❌ No se extrajeron subtítulos.\n"
     ]
    }
   ],
   "source": [
    "from pytube import YouTube\n",
    "import pandas as pd\n",
    "import re\n",
    "import time\n",
    "\n",
    "# Lista de URLs de los videos (la puedes llenar manualmente o desde otro script)\n",
    "video_urls = [\n",
    "    # Aquí agregas tus URLs de video, como ejemplo:\n",
    "    \"https://www.youtube.com/live/Q5Z01pPwoEM?si=Qvvy6BNmX6HL4KVI\",\n",
    "    # Agrega más URLs...\n",
    "]\n",
    "\n",
    "# Función para extraer subtítulos\n",
    "def extract_captions(url):\n",
    "    try:\n",
    "        yt = YouTube(url)\n",
    "        title = yt.title\n",
    "        caption = yt.captions.get_by_language_code('es')  # Extraemos los subtítulos en español\n",
    "        if caption:\n",
    "            srt = caption.generate_srt_captions()\n",
    "            # Limpiar los timestamps\n",
    "            clean_text = re.sub(r\"\\d+\\n\\d\\d:\\d\\d:\\d\\d,\\d+ --> \\d\\d:\\d\\d:\\d\\d,\\d+\\n\", \"\", srt)\n",
    "            clean_text = clean_text.strip()\n",
    "            return {'Título': title, 'URL': url, 'Texto': clean_text}\n",
    "        else:\n",
    "            print(f\"⚠️ No hay subtítulos en español para: {title}\")\n",
    "            return None\n",
    "    except Exception as e:\n",
    "        print(f\"❌ Error al procesar {url}: {e}\")\n",
    "        return None\n",
    "\n",
    "# Procesar todos los videos\n",
    "def process_videos(video_urls):\n",
    "    data = []\n",
    "    for idx, url in enumerate(video_urls):\n",
    "        result = extract_captions(url)\n",
    "        if result:\n",
    "            data.append(result)\n",
    "        time.sleep(1)  # Evitar sobrecargar YouTube\n",
    "    return data\n",
    "\n",
    "# Guardar los resultados en CSV\n",
    "def save_to_csv(data, filename=\"subtitulos_extraidos.csv\"):\n",
    "    df = pd.DataFrame(data)\n",
    "    df.to_csv(filename, index=False)\n",
    "    print(f\"✅ Subtítulos guardados en '{filename}'\")\n",
    "\n",
    "# Ejecutar el proceso\n",
    "if __name__ == \"__main__\":\n",
    "    print(\"📝 Comenzando la extracción de subtítulos...\")\n",
    "    data = process_videos(video_urls)\n",
    "    \n",
    "    if data:\n",
    "        print(\"💾 Guardando los resultados...\")\n",
    "        save_to_csv(data)\n",
    "    else:\n",
    "        print(\"❌ No se extrajeron subtítulos.\")\n",
    "\n"
   ]
  },
  {
   "cell_type": "code",
   "execution_count": 1,
   "id": "a5b19662-c48e-4546-a2e7-1c06539497a4",
   "metadata": {},
   "outputs": [
    {
     "name": "stdout",
     "output_type": "stream",
     "text": [
      "Requirement already satisfied: pytube in c:\\users\\dron\\anaconda3\\lib\\site-packages (15.0.0)\n"
     ]
    }
   ],
   "source": [
    "!pip install pytube"
   ]
  },
  {
   "cell_type": "code",
   "execution_count": null,
   "id": "abf6bc62-129b-434c-a178-6f750ec0de58",
   "metadata": {},
   "outputs": [],
   "source": []
  }
 ],
 "metadata": {
  "kernelspec": {
   "display_name": "Python 3 (ipykernel)",
   "language": "python",
   "name": "python3"
  },
  "language_info": {
   "codemirror_mode": {
    "name": "ipython",
    "version": 3
   },
   "file_extension": ".py",
   "mimetype": "text/x-python",
   "name": "python",
   "nbconvert_exporter": "python",
   "pygments_lexer": "ipython3",
   "version": "3.12.7"
  }
 },
 "nbformat": 4,
 "nbformat_minor": 5
}
